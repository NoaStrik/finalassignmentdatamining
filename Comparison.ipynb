{
 "cells": [
  {
   "cell_type": "markdown",
   "metadata": {},
   "source": [
    "Linear regression model:\n",
    "\n",
    "| Class | Precision | Recall | F1-Score | Support |\n",
    "|-------|------------|--------|----------|---------|\n",
    "| 0     | 0.84       | 0.94   | 0.89     | 10241   |\n",
    "| 1     | 0.71       | 0.45   | 0.55     | 3326    |\n",
    "| **Accuracy**       |         |        | 0.82     | 13567   |\n",
    "| **Macro Avg**      | 0.78    | 0.70   | 0.72     | 13567   |\n",
    "| **Weighted Avg**   | 0.81    | 0.82   | 0.81     | 13567   |\n",
    "\n",
    "Accuracy: 0.820372963809243\n"
   ]
  },
  {
   "cell_type": "markdown",
   "metadata": {},
   "source": [
    "NB model: \n",
    "\n",
    "| Class | Precision | Recall | F1-Score | Support |\n",
    "|-------|------------|--------|----------|---------|\n",
    "| 0     | 0.85       | 0.92   | 0.88     | 10241   |\n",
    "| 1     | 0.66       | 0.49   | 0.57     | 3326    |\n",
    "| **Accuracy**       |         |        | 0.81     | 13567   |\n",
    "| **Macro Avg**      | 0.76    | 0.71   | 0.72     | 13567   |\n",
    "| **Weighted Avg**   | 0.80    | 0.81   | 0.80     | 13567   |\n",
    "\n",
    "More Adjusted Accuracy: 0.8142551780054544"
   ]
  },
  {
   "cell_type": "markdown",
   "metadata": {},
   "source": [
    "kNN model: \n",
    "\n",
    "| Class | Precision | Recall | F1-Score | Support |\n",
    "|-------|-----------|--------|----------|---------|\n",
    "| 0     | 0.90      | 0.83   | 0.86     | 11233   |\n",
    "| 1     | 0.56      | 0.70   | 0.62     | 3420    |\n",
    "| **Accuracy**            |         |        | 0.80     | 14653   |\n",
    "| **Macro Avg**          | 0.73    | 0.77   | 0.74     | 14653   |\n",
    "| **Weighted Avg**       | 0.82    | 0.80   | 0.81     | 14653   |\n",
    "\n",
    "Best Cross-Validation Score: 0.8886082919141696\n",
    "\n",
    "Test Set Accuracy: 0.7999044564253054\n"
   ]
  },
  {
   "cell_type": "markdown",
   "metadata": {},
   "source": [
    "The kNN model and the NB model were both improved when we tried to improve it with adjusted accuracy, smote, and gridsearch. The linear regression model did not react positive to improvements which resulted in the first model made being the best one. \n",
    "\n",
    "The overall accuracy of the linear regression model is the best with 0.82 while the NB model takes a second spot with 0.81 and the kNN model a third spot with 0.80. \n",
    "\n",
    "If we compare which model is the best for which class, we find that the linear regression model is the best to use for class 0 predictions and the kNN model is the best to use for class 1 predictions. "
   ]
  }
 ],
 "metadata": {
  "language_info": {
   "name": "python"
  }
 },
 "nbformat": 4,
 "nbformat_minor": 2
}
