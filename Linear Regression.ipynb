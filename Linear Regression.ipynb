{
 "cells": [
  {
   "cell_type": "code",
   "execution_count": 1,
   "metadata": {},
   "outputs": [
    {
     "name": "stdout",
     "output_type": "stream",
     "text": [
      "Accuracy: 0.820372963809243\n",
      "Classification Report:\n",
      "              precision    recall  f1-score   support\n",
      "\n",
      "           0       0.84      0.94      0.89     10241\n",
      "           1       0.71      0.45      0.55      3326\n",
      "\n",
      "    accuracy                           0.82     13567\n",
      "   macro avg       0.78      0.70      0.72     13567\n",
      "weighted avg       0.81      0.82      0.81     13567\n",
      "\n"
     ]
    }
   ],
   "source": [
    "import pandas as pd\n",
    "import numpy as np\n",
    "from sklearn.model_selection import train_test_split\n",
    "from sklearn.preprocessing import LabelEncoder, StandardScaler\n",
    "from sklearn.linear_model import LogisticRegression\n",
    "from sklearn.metrics import classification_report, accuracy_score\n",
    "\n",
    "data = pd.read_csv('adult.csv')\n",
    "\n",
    "data.replace('?', np.nan, inplace=True)\n",
    "\n",
    "data.dropna(inplace=True)\n",
    "\n",
    "label_encoder = LabelEncoder()\n",
    "\n",
    "categorical_columns = ['workclass', 'education', 'marital-status', 'occupation', \n",
    "                       'relationship', 'race', 'gender', 'native-country']\n",
    "\n",
    "for col in categorical_columns:\n",
    "    data[col] = label_encoder.fit_transform(data[col])\n",
    "\n",
    "data['income'] = label_encoder.fit_transform(data['income'])\n",
    "\n",
    "X = data.drop('income', axis=1) \n",
    "y = data['income'] \n",
    "\n",
    "scaler = StandardScaler()\n",
    "X_scaled = scaler.fit_transform(X)\n",
    "\n",
    "X_train, X_test, y_train, y_test = train_test_split(X_scaled, y, test_size=0.3, random_state=42)\n",
    "\n",
    "logreg = LogisticRegression()\n",
    "logreg.fit(X_train, y_train)\n",
    "\n",
    "y_pred = logreg.predict(X_test)\n",
    "\n",
    "accuracy = accuracy_score(y_test, y_pred)\n",
    "classification_report_output = classification_report(y_test, y_pred)\n",
    "\n",
    "print(f\"Accuracy: {accuracy}\")\n",
    "print(\"Classification Report:\")\n",
    "print(classification_report_output)\n"
   ]
  },
  {
   "cell_type": "code",
   "execution_count": 2,
   "metadata": {},
   "outputs": [
    {
     "name": "stdout",
     "output_type": "stream",
     "text": [
      "Accuracy with custom threshold: 0.7956069875433036\n",
      "Classification Report with custom threshold:\n",
      "              precision    recall  f1-score   support\n",
      "\n",
      "           0       0.89      0.83      0.86     10241\n",
      "           1       0.57      0.70      0.63      3326\n",
      "\n",
      "    accuracy                           0.80     13567\n",
      "   macro avg       0.73      0.76      0.74     13567\n",
      "weighted avg       0.81      0.80      0.80     13567\n",
      "\n"
     ]
    }
   ],
   "source": [
    "y_pred_proba = logreg.predict_proba(X_test)[:, 1]  \n",
    "\n",
    "threshold = 0.3\n",
    "y_pred_custom = (y_pred_proba >= threshold).astype(int)\n",
    "\n",
    "accuracy_custom = accuracy_score(y_test, y_pred_custom)\n",
    "classification_report_custom = classification_report(y_test, y_pred_custom)\n",
    "\n",
    "print(f\"Accuracy with custom threshold: {accuracy_custom}\")\n",
    "print(\"Classification Report with custom threshold:\")\n",
    "print(classification_report_custom)\n"
   ]
  },
  {
   "cell_type": "code",
   "execution_count": 3,
   "metadata": {},
   "outputs": [
    {
     "name": "stdout",
     "output_type": "stream",
     "text": [
      "Accuracy with aggressive threshold: 0.589076435468416\n",
      "Classification Report with aggressive threshold:\n",
      "              precision    recall  f1-score   support\n",
      "\n",
      "           0       0.96      0.48      0.64     10241\n",
      "           1       0.37      0.93      0.53      3326\n",
      "\n",
      "    accuracy                           0.59     13567\n",
      "   macro avg       0.66      0.71      0.58     13567\n",
      "weighted avg       0.81      0.59      0.61     13567\n",
      "\n"
     ]
    }
   ],
   "source": [
    "y_pred_proba = logreg.predict_proba(X_test)[:, 1]  \n",
    "\n",
    "threshold = 0.1\n",
    "y_pred_custom = (y_pred_proba >= threshold).astype(int)\n",
    "\n",
    "accuracy_custom = accuracy_score(y_test, y_pred_custom)\n",
    "classification_report_custom = classification_report(y_test, y_pred_custom)\n",
    "\n",
    "print(f\"Accuracy with aggressive threshold: {accuracy_custom}\")\n",
    "print(\"Classification Report with aggressive threshold:\")\n",
    "print(classification_report_custom)\n"
   ]
  }
 ],
 "metadata": {
  "kernelspec": {
   "display_name": "base",
   "language": "python",
   "name": "python3"
  },
  "language_info": {
   "codemirror_mode": {
    "name": "ipython",
    "version": 3
   },
   "file_extension": ".py",
   "mimetype": "text/x-python",
   "name": "python",
   "nbconvert_exporter": "python",
   "pygments_lexer": "ipython3",
   "version": "3.11.7"
  }
 },
 "nbformat": 4,
 "nbformat_minor": 2
}
